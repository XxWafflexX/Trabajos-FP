{
  "nbformat": 4,
  "nbformat_minor": 0,
  "metadata": {
    "colab": {
      "provenance": [],
      "authorship_tag": "ABX9TyMbFLpyJfZx6KvOMVcfC5rJ",
      "include_colab_link": true
    },
    "kernelspec": {
      "name": "python3",
      "display_name": "Python 3"
    },
    "language_info": {
      "name": "python"
    }
  },
  "cells": [
    {
      "cell_type": "markdown",
      "metadata": {
        "id": "view-in-github",
        "colab_type": "text"
      },
      "source": [
        "<a href=\"https://colab.research.google.com/github/XxWafflexX/Trabajos-FP/blob/main/TAREA_7_Tipos_de_datos_de_Python_3.ipynb\" target=\"_parent\"><img src=\"https://colab.research.google.com/assets/colab-badge.svg\" alt=\"Open In Colab\"/></a>"
      ]
    },
    {
      "cell_type": "code",
      "execution_count": 1,
      "metadata": {
        "colab": {
          "base_uri": "https://localhost:8080/"
        },
        "id": "9HApKksuAtYZ",
        "outputId": "96933293-8fbb-4242-cd43-32ffe95cc369"
      },
      "outputs": [
        {
          "output_type": "stream",
          "name": "stdout",
          "text": [
            "Entero: 10\n",
            "Decimal: 3.1416\n",
            "Complejo: (2+3j)\n",
            "Booleano: True\n",
            "Cadena: Python  | Primer caracter: P\n",
            "Lista: [1, 2, 3, 4]\n",
            "Lista modificada: [1, 2, 99, 4]\n",
            "Tupla: (4, 5)\n",
            "Conjunto: {'verde', 'rojo', 'azul'}\n",
            "Diccionario: {'nombre': 'Ana', 'edad': 20}\n",
            "Edad: 20\n",
            "Rango: [0, 1, 2, 3, 4]\n"
          ]
        }
      ],
      "source": [
        "# Ejemplos de declaración y despliegue en Python\n",
        "\n",
        "# Numéricos\n",
        "x = 10           # int\n",
        "pi = 3.1416      # float\n",
        "z = 2 + 3j       # complex\n",
        "print(\"Entero:\", x)\n",
        "print(\"Decimal:\", pi)\n",
        "print(\"Complejo:\", z)\n",
        "\n",
        "# Booleano\n",
        "flag = True\n",
        "print(\"Booleano:\", flag)\n",
        "\n",
        "# String\n",
        "nombre = \"Python\"\n",
        "print(\"Cadena:\", nombre, \" | Primer caracter:\", nombre[0])\n",
        "\n",
        "# Lista\n",
        "numeros = [1, 2, 3, 4]\n",
        "print(\"Lista:\", numeros)\n",
        "numeros[2] = 99  # mutable\n",
        "print(\"Lista modificada:\", numeros)\n",
        "\n",
        "# Tupla\n",
        "coordenada = (4, 5)\n",
        "print(\"Tupla:\", coordenada)\n",
        "\n",
        "# Conjunto\n",
        "colores = {\"rojo\", \"azul\", \"verde\", \"rojo\"}  # elimina duplicados\n",
        "print(\"Conjunto:\", colores)\n",
        "\n",
        "# Diccionario\n",
        "persona = {\"nombre\": \"Ana\", \"edad\": 20}\n",
        "print(\"Diccionario:\", persona)\n",
        "print(\"Edad:\", persona[\"edad\"])\n",
        "\n",
        "# Rango\n",
        "r = range(5)\n",
        "print(\"Rango:\", list(r))\n"
      ]
    }
  ]
}